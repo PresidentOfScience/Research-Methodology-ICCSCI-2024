{
 "cells": [
  {
   "cell_type": "code",
   "execution_count": 1,
   "id": "764315f3",
   "metadata": {},
   "outputs": [],
   "source": [
    "import cv2\n",
    "import numpy as np\n",
    "import os\n",
    "import mediapipe as mp\n",
    "\n",
    "mp_hands = mp.solutions.hands\n",
    "\n",
    "def mediapipe_detection(image, model):\n",
    "    image = cv2.cvtColor(image, cv2.COLOR_BGR2RGB)\n",
    "    image.flags.writeable = False                \n",
    "    results = model.process(image)               \n",
    "    image.flags.writeable = True               \n",
    "    image = cv2.cvtColor(image, cv2.COLOR_RGB2BGR)\n",
    "    return image, results\n",
    "    \n",
    "def extract_keypoints(results):\n",
    "    if results.multi_hand_landmarks:\n",
    "        return np.array([[res.x, res.y, res.z] for res in\n",
    "                results.multi_hand_landmarks[0].landmark]).flatten(), True\n",
    "    return np.zeros(21*3), False\n",
    "\n",
    "DATA_PATH = os.path.join('SIBI')"
   ]
  },
  {
   "cell_type": "code",
   "execution_count": 2,
   "id": "da2670f0",
   "metadata": {},
   "outputs": [],
   "source": [
    "actions = np.array([folder for folder in os.listdir(DATA_PATH)])\n",
    "\n",
    "try: \n",
    "    os.makedirs(DATA_PATH + \" Dataset\")\n",
    "except:\n",
    "    pass\n",
    "\n",
    "NEW_PATH = DATA_PATH + \" Dataset\"\n",
    "\n",
    "for action in actions: \n",
    "    try: \n",
    "        os.makedirs(os.path.join(NEW_PATH, action))\n",
    "    except:\n",
    "        pass"
   ]
  },
  {
   "cell_type": "code",
   "execution_count": 3,
   "id": "f1e36861",
   "metadata": {},
   "outputs": [
    {
     "name": "stdout",
     "output_type": "stream",
     "text": [
      "Current action: A\n",
      "Current action: B\n",
      "Current action: C\n",
      "Current action: D\n",
      "Current action: E\n",
      "Current action: F\n",
      "Current action: G\n",
      "Current action: H\n",
      "Current action: I\n",
      "Current action: K\n",
      "Current action: L\n",
      "Current action: M\n",
      "Current action: N\n",
      "Current action: O\n",
      "Current action: P\n",
      "Current action: Q\n",
      "Current action: R\n",
      "Current action: S\n",
      "Current action: T\n",
      "Current action: U\n",
      "Current action: V\n",
      "Current action: W\n",
      "Current action: X\n",
      "Current action: Y\n"
     ]
    },
    {
     "ename": "",
     "evalue": "",
     "output_type": "error",
     "traceback": [
      "\u001b[1;31mThe Kernel crashed while executing code in the the current cell or a previous cell. Please review the code in the cell(s) to identify a possible cause of the failure. Click <a href='https://aka.ms/vscodeJupyterKernelCrash'>here</a> for more info. View Jupyter <a href='command:jupyter.viewOutput'>log</a> for further details."
     ]
    }
   ],
   "source": [
    "with mp_hands.Hands(static_image_mode=True) as hands:\n",
    "    for action in actions:\n",
    "        CUR_PATH = os.path.join(DATA_PATH, action)\n",
    "        print(\"Current action: \" + action)\n",
    "        curPos = 0\n",
    "        for pic in os.listdir(CUR_PATH):\n",
    "            frame = cv2.imread(os.path.join(CUR_PATH, pic))\n",
    "            image, results = mediapipe_detection(frame, hands)\n",
    "            \n",
    "            keypoints, use = extract_keypoints(results)\n",
    "            if use:\n",
    "                npy_path = os.path.join(NEW_PATH, action, str(curPos))\n",
    "                curPos += 1\n",
    "                np.save(npy_path, keypoints)"
   ]
  }
 ],
 "metadata": {
  "kernelspec": {
   "display_name": "Python 3 (ipykernel)",
   "language": "python",
   "name": "python3"
  },
  "language_info": {
   "codemirror_mode": {
    "name": "ipython",
    "version": 3
   },
   "file_extension": ".py",
   "mimetype": "text/x-python",
   "name": "python",
   "nbconvert_exporter": "python",
   "pygments_lexer": "ipython3",
   "version": "3.11.9"
  }
 },
 "nbformat": 4,
 "nbformat_minor": 5
}
