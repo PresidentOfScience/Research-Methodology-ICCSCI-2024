{
 "cells": [
  {
   "cell_type": "code",
   "execution_count": 1,
   "id": "64d7be8b",
   "metadata": {},
   "outputs": [],
   "source": [
    "import cv2\n",
    "import numpy as np\n",
    "import os\n",
    "import mediapipe as mp\n",
    "from IPython.display import clear_output\n",
    "\n",
    "language = 'id'\n",
    "\n",
    "mp_hands = mp.solutions.hands\n",
    "mp_drawing = mp.solutions.drawing_utils\n",
    "\n",
    "def mediapipe_detection(image, model):\n",
    "    image = cv2.cvtColor(image, cv2.COLOR_BGR2RGB)\n",
    "    image.flags.writeable = False                \n",
    "    results = model.process(image)              \n",
    "    image.flags.writeable = True                 \n",
    "    image = cv2.cvtColor(image, cv2.COLOR_RGB2BGR)\n",
    "    return image, results\n",
    "\n",
    "def draw_styled_landmarks(image, results):\n",
    "    if results.multi_hand_landmarks:\n",
    "        for index, hand_landmarks in enumerate(results.multi_hand_landmarks):\n",
    "            if results.multi_handedness[index].classification[0].index == 0:\n",
    "                mp_drawing.draw_landmarks(image, hand_landmarks, mp_hands.HAND_CONNECTIONS, \n",
    "                                            mp_drawing.DrawingSpec(color=(121,22,76), thickness=2, circle_radius=4), \n",
    "                                            mp_drawing.DrawingSpec(color=(121,44,250), thickness=2, circle_radius=2)\n",
    "                                            ) \n",
    "            else:\n",
    "                mp_drawing.draw_landmarks(image, hand_landmarks, mp_hands.HAND_CONNECTIONS, \n",
    "                                            mp_drawing.DrawingSpec(color=(245,117,66), thickness=2, circle_radius=4), \n",
    "                                            mp_drawing.DrawingSpec(color=(245,66,230), thickness=2, circle_radius=2)\n",
    "                                            )\n",
    "    \n",
    "def extract_keypoints(results):\n",
    "    if results.multi_hand_landmarks:\n",
    "        return np.array([[res.x, res.y, res.z] for res in\n",
    "                results.multi_hand_landmarks[0].landmark]).flatten(), True\n",
    "    return np.zeros(21*3), False\n",
    "\n",
    "DATA_PATH = os.path.join('SIBI Dataset')\n",
    "actions = np.array([folder for folder in os.listdir(DATA_PATH)])\n",
    "\n",
    "from tensorflow.keras.models import Sequential\n",
    "from tensorflow.keras.layers import LSTM, Dense\n",
    "\n",
    "model = Sequential()\n",
    "model.add(LSTM(64, return_sequences=True, activation='relu', input_shape=(1, 63)))\n",
    "model.add(LSTM(128, return_sequences=True, activation='relu'))\n",
    "model.add(LSTM(64, return_sequences=False, activation='relu'))\n",
    "model.add(Dense(64, activation='relu'))\n",
    "model.add(Dense(32, activation='relu'))\n",
    "model.add(Dense(actions.shape[0], activation='softmax'))\n",
    "\n",
    "model.load_weights('SIBI.h5')\n",
    "\n",
    "def showText(image, sentence):\n",
    "    cv2.rectangle(image, (0,440), (640, 480), (245, 117, 16), -1)\n",
    "    cv2.putText(image, ' '.join(sentence), (3,470), cv2.FONT_HERSHEY_SIMPLEX, 1, (255, 255, 255), 2, cv2.LINE_AA)"
   ]
  },
  {
   "cell_type": "code",
   "execution_count": 2,
   "id": "82882681",
   "metadata": {},
   "outputs": [
    {
     "name": "stdout",
     "output_type": "stream",
     "text": [
      "1/1 [==============================] - 0s 36ms/step\n"
     ]
    }
   ],
   "source": [
    "cap = cv2.VideoCapture(0)\n",
    "\n",
    "with mp_hands.Hands(min_detection_confidence=0.5, min_tracking_confidence=0.5) as hands:\n",
    "    while cap.isOpened():\n",
    "        ret, frame = cap.read()\n",
    "\n",
    "        image, results = mediapipe_detection(frame, hands)\n",
    "        \n",
    "        draw_styled_landmarks(image, results)\n",
    "        \n",
    "        keypoints, visible = extract_keypoints(results)\n",
    "        \n",
    "        if visible:\n",
    "            keypoints = keypoints.reshape(1, keypoints.shape[0])\n",
    "\n",
    "            pred = model.predict(np.expand_dims(keypoints, axis=0))\n",
    "            res = np.argmax(pred[0])\n",
    "            \n",
    "            clear_output(wait=True)\n",
    "            showText(image, actions[res])\n",
    "            \n",
    "        cv2.imshow('OpenCV Feed', image)\n",
    "        cv2.waitKey(1)\n",
    "\n",
    "        if cv2.waitKey(1) & 0xFF == ord('q'):\n",
    "            break\n",
    "    cap.release()\n",
    "    cv2.destroyAllWindows()"
   ]
  },
  {
   "cell_type": "code",
   "execution_count": null,
   "id": "55b56ecc",
   "metadata": {},
   "outputs": [],
   "source": []
  }
 ],
 "metadata": {
  "kernelspec": {
   "display_name": "Python 3 (ipykernel)",
   "language": "python",
   "name": "python3"
  },
  "language_info": {
   "codemirror_mode": {
    "name": "ipython",
    "version": 3
   },
   "file_extension": ".py",
   "mimetype": "text/x-python",
   "name": "python",
   "nbconvert_exporter": "python",
   "pygments_lexer": "ipython3",
   "version": "3.11.9"
  }
 },
 "nbformat": 4,
 "nbformat_minor": 5
}
